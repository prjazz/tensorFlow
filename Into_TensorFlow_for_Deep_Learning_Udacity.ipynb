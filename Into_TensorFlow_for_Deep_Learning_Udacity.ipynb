{
  "nbformat": 4,
  "nbformat_minor": 0,
  "metadata": {
    "colab": {
      "name": "Into TensorFlow for Deep Learning - Udacity.ipynb",
      "provenance": [],
      "authorship_tag": "ABX9TyPCtVSUWhZi9xIRz4lAJGBY",
      "include_colab_link": true
    },
    "kernelspec": {
      "name": "python3",
      "display_name": "Python 3"
    },
    "language_info": {
      "name": "python"
    }
  },
  "cells": [
    {
      "cell_type": "markdown",
      "metadata": {
        "id": "view-in-github",
        "colab_type": "text"
      },
      "source": [
        "<a href=\"https://colab.research.google.com/github/prjazz/tensorFlow/blob/main/Into_TensorFlow_for_Deep_Learning_Udacity.ipynb\" target=\"_parent\"><img src=\"https://colab.research.google.com/assets/colab-badge.svg\" alt=\"Open In Colab\"/></a>"
      ]
    },
    {
      "cell_type": "code",
      "source": [
        "import numpy as np\n",
        "import tensorflow as tf\n",
        "import matplotlib.pyplot as plt\n",
        "import logging\n",
        "\n",
        "logger = tf.get_logger()\n",
        "logger.setLevel(logging.ERROR)"
      ],
      "metadata": {
        "id": "wi5Wmb8eCywo"
      },
      "execution_count": 21,
      "outputs": []
    },
    {
      "cell_type": "code",
      "source": [
        "# Supervised ML model to figure out Celsius to Fahrenhiet conversion model\n",
        "# Training data\n",
        "celsius_q = np.array([-40, -10, 0, 8, 15, 22, 38], dtype=float) #feature\n",
        "fahrenhiet_a = np.array([-40, 14, 32, 46, 59, 72, 100], dtype=float) #labels\n",
        "\n",
        "#Create a Dense network\n",
        "l0 = tf.keras.layers.Dense(units = 1, input_shape=[1])\n",
        "model = tf.keras.Sequential([l0])\n",
        "model.compile(loss='mean_squared_error', optimizer=tf.keras.optimizers.Adam(0.1))\n",
        "history = model.fit(celsius_q, fahrenhiet_a, epochs=500, verbose=False)\n",
        "print(\"Finished training the model\")\n",
        "#Display training statistics\n",
        "plt.xlabel(\"Epoch Number\")\n",
        "plt.ylabel(\"Loss Magnitude\")\n",
        "plt.plot(history.history['loss'])\n",
        "\n",
        "#predicting\n",
        "print(model.predict([100.0]))\n",
        "\n",
        "print(\"These are the layer variables: {}\".format(l0.get_weights()))\n",
        "print(\"the first variable is close to ~1.8 and the second to ~32\")"
      ],
      "metadata": {
        "colab": {
          "base_uri": "https://localhost:8080/",
          "height": 348
        },
        "id": "0VnWi3TIKBLV",
        "outputId": "ed48c245-4ef5-4131-a496-e8c00a2fc8f1"
      },
      "execution_count": 26,
      "outputs": [
        {
          "output_type": "stream",
          "name": "stdout",
          "text": [
            "Finished training the model\n",
            "[[211.33842]]\n",
            "These are the layer variables: [array([[1.8202783]], dtype=float32), array([29.310598], dtype=float32)]\n",
            "the first variable is close to ~1.8 and the second to ~32\n"
          ]
        },
        {
          "output_type": "display_data",
          "data": {
            "text/plain": [
              "<Figure size 432x288 with 1 Axes>"
            ],
            "image/png": "[encoded data removed]"
          },
          "metadata": {
            "needs_background": "light"
          }
        }
      ]
    },
    {
      "cell_type": "code",
      "source": [
        "l0 = tf.keras.layers.Dense(units=4, input_shape=[1])\n",
        "l1 = tf.keras.layers.Dense(units=4)\n",
        "l2 = tf.keras.layers.Dense(units=1)\n",
        "model = tf.keras.Sequential([l0, l1, l2])\n",
        "model.compile(loss='mean_squared_error', optimizer=tf.keras.optimizers.Adam(0.1))\n",
        "model.fit(celsius_q, fahrenhiet_a, epochs=500, verbose=False)\n",
        "print(\"Finished training the model\")\n",
        "print(model.predict([100.0]))\n",
        "print(\"Model predicts that 100 degrees Celsius is: {} degrees Fahrenheit\".format(model.predict([100.0])))\n",
        "print(\"These are the l0 variables: {}\".format(l0.get_weights()))\n",
        "print(\"These are the l1 variables: {}\".format(l1.get_weights()))\n",
        "print(\"These are the l2 variables: {}\".format(l2.get_weights()))"
      ],
      "metadata": {
        "colab": {
          "base_uri": "https://localhost:8080/"
        },
        "id": "xAwSprPXRtC-",
        "outputId": "cd29bdf3-3e04-4eb8-f2f4-051e062b6b7e"
      },
      "execution_count": 24,
      "outputs": [
        {
          "output_type": "stream",
          "name": "stdout",
          "text": [
            "Finished training the model\n",
            "[[211.74742]]\n",
            "Model predicts that 100 degrees Celsius is: [[211.74742]] degrees Fahrenheit\n",
            "These are the l0 variables: [array([[ 0.1429232 ,  0.5093734 , -0.04428031,  0.41520882]],\n",
            "      dtype=float32), array([ 1.1624831,  3.8883798, -2.5142694,  3.7681878], dtype=float32)]\n",
            "These are the l1 variables: [array([[ 0.34592134,  0.3849099 ,  0.3849901 ,  0.90744716],\n",
            "       [-0.55570436, -0.6021283 ,  1.0923208 ,  0.33564013],\n",
            "       [ 0.31675074, -0.20718686, -0.743608  ,  0.280241  ],\n",
            "       [-0.8919144 ,  0.40764427,  0.56936455, -1.0780587 ]],\n",
            "      dtype=float32), array([-3.906681 , -1.1598094,  3.6998363, -2.8601227], dtype=float32)]\n",
            "These are the l2 variables: [array([[-0.5655114 ],\n",
            "       [-0.21024403],\n",
            "       [ 1.486656  ],\n",
            "       [-0.77614474]], dtype=float32), array([3.6510015], dtype=float32)]\n"
          ]
        }
      ]
    },
    {
      "cell_type": "code",
      "source": [
        "from numpy.core.fromnumeric import shape\n",
        "a = np.array([\"Hello\", \"World\"])\n",
        "a = np.append(a, \"!\")\n",
        "print(\"Current array: {}\".format(a))\n",
        "print(\"Printing each element\")\n",
        "for i in a:\n",
        "  print(i)\n",
        "\n",
        "print(\"\\nPrinting each element and their index\")\n",
        "for i,e in enumerate(a):\n",
        "  print(\"Index: {}, was {}\".format(i,e))\n",
        "  \n",
        "print(\"Showing some basic math on arrays\")\n",
        "b = np.array([0,1,4,3,2])\n",
        "print(\"Max: {}\\nAverage: {}\\nMax index: {}\".format(np.max(b), np.average(b), np.argmax(b)))\n",
        "\n",
        "print(\"\\nYou can print the type of anything\")\n",
        "print(\"Type of b: {}, type of b[0]: {}\".format(type(b), type(b[0])))\n",
        "\n",
        "print(\"\\nUse numpy to create a [x,y] dimension array with random numbers\")\n",
        "def createRandomArray(x, y):\n",
        "  return np.random.rand(x, y)\n",
        "c = createRandomArray(3,3)\n",
        "print(\"[3x3] random number array:\\n{}\".format(c))\n",
        "\n",
        "print(\"\\nDimension of previosly defined arrays.\\na: {}\\nb: {}\\nc: {}\".format(a.shape, b.shape, c.shape))\n"
      ],
      "metadata": {
        "colab": {
          "base_uri": "https://localhost:8080/"
        },
        "id": "2m4rejueC7yu",
        "outputId": "2515fc3e-589b-4941-efe0-ad679132ad94"
      },
      "execution_count": 18,
      "outputs": [
        {
          "output_type": "stream",
          "name": "stdout",
          "text": [
            "Current array: ['Hello' 'World' '!']\n",
            "Printing each element\n",
            "Hello\n",
            "World\n",
            "!\n",
            "\n",
            "Printing each element and their index\n",
            "Index: 0, was Hello\n",
            "Index: 1, was World\n",
            "Index: 2, was !\n",
            "Showing some basic math on arrays\n",
            "Max: 4\n",
            "Average: 2.0\n",
            "Max index: 2\n",
            "\n",
            "You can print the type of anything\n",
            "Type of b: <class 'numpy.ndarray'>, type of b[0]: <class 'numpy.int64'>\n",
            "\n",
            "Use numpy to create a [x,y] dimension array with random numbers\n",
            "[3x3] random number array:\n",
            "[[0.49414087 0.91866329 0.65985845]\n",
            " [0.49263526 0.03585856 0.57837184]\n",
            " [0.86608284 0.92814608 0.07952294]]\n",
            "\n",
            "Dimension of previosly defined arrays.\n",
            "a: (3,)\n",
            "b: (5,)\n",
            "c: (3, 3)\n"
          ]
        }
      ]
    }
  ]
}