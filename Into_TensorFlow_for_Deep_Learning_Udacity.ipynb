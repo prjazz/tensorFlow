{
  "nbformat": 4,
  "nbformat_minor": 0,
  "metadata": {
    "colab": {
      "name": "Into TensorFlow for Deep Learning - Udacity.ipynb",
      "provenance": [],
      "authorship_tag": "ABX9TyN+B3ZA0a8tH34tg4N5Mn92"
    },
    "kernelspec": {
      "name": "python3",
      "display_name": "Python 3"
    },
    "language_info": {
      "name": "python"
    }
  },
  "cells": [
    {
      "cell_type": "code",
      "source": [
        "import numpy as np"
      ],
      "metadata": {
        "id": "wi5Wmb8eCywo"
      },
      "execution_count": 5,
      "outputs": []
    },
    {
      "cell_type": "code",
      "source": [
        "from numpy.core.fromnumeric import shape\n",
        "print(\"Showing some basic math on arrays\")\n",
        "b = np.array([0,1,4,3,2])\n",
        "print(\"Max: {}\\nAverage: {}\\nMax index: {}\".format(np.max(b), np.average(b), np.argmax(b)))\n",
        "\n",
        "print(\"\\nYou can print the type of anything\")\n",
        "print(\"Type of b: {}, type of b[0]: {}\".format(type(b), type(b[0])))\n",
        "\n",
        "print(\"\\nUse numpy to create a [x,y] dimension array with random numbers\")\n",
        "def createRandomArray(x, y):\n",
        "  return np.random.rand(x, y)\n",
        "c = createRandomArray(3,3)\n",
        "print(\"[3x3] random number array:\\n{}\".format(c))\n",
        "\n",
        "print(\"\\nDimension of previosly defined arrays.\\na: {}\\nb: {}\\nc: {}\".format(a.shape, b.shape, c.shape))\n"
      ],
      "metadata": {
        "colab": {
          "base_uri": "https://localhost:8080/"
        },
        "id": "2m4rejueC7yu",
        "outputId": "4e17f793-9d94-4dd6-a304-62480213fb2d"
      },
      "execution_count": 16,
      "outputs": [
        {
          "output_type": "stream",
          "name": "stdout",
          "text": [
            "Showing some basic math on arrays\n",
            "Max: 4\n",
            "Average: 2.0\n",
            "Max index: 2\n",
            "\n",
            "You can print the type of anything\n",
            "Type of b: <class 'numpy.ndarray'>, type of b[0]: <class 'numpy.int64'>\n",
            "\n",
            "Use numpy to create a [x,y] dimension array with random numbers\n",
            "[3x3] random number array:\n",
            "[[0.49203032 0.84227433 0.47108687]\n",
            " [0.15529708 0.34505623 0.43060535]\n",
            " [0.81308061 0.96563969 0.41234767]]\n",
            "\n",
            "Dimension of previosly defined arrays.\n",
            "a: (3,)\n",
            "b: (5,)\n",
            "c: (3, 3)\n"
          ]
        }
      ]
    },
    {
      "cell_type": "code",
      "execution_count": 6,
      "metadata": {
        "colab": {
          "base_uri": "https://localhost:8080/"
        },
        "id": "_kSgT8X39IG9",
        "outputId": "877ebb05-1a4f-4d9c-a1de-71864d61dc3f"
      },
      "outputs": [
        {
          "output_type": "stream",
          "name": "stdout",
          "text": [
            "Current array: ['Hello' 'World' '!']\n",
            "Printing each element\n",
            "Hello\n",
            "World\n",
            "!\n",
            "\n",
            "Printing each element and their index\n",
            "Index: 0, was Hello\n",
            "Index: 1, was World\n",
            "Index: 2, was !\n"
          ]
        }
      ],
      "source": [
        "a = np.array([\"Hello\", \"World\"])\n",
        "a = np.append(a, \"!\")\n",
        "print(\"Current array: {}\".format(a))\n",
        "print(\"Printing each element\")\n",
        "for i in a:\n",
        "  print(i)\n",
        "\n",
        "print(\"\\nPrinting each element and their index\")\n",
        "for i,e in enumerate(a):\n",
        "  print(\"Index: {}, was {}\".format(i,e))\n",
        "\n"
      ]
    }
  ]
}